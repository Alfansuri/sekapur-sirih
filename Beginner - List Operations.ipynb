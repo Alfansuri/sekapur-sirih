{
 "cells": [
  {
   "cell_type": "markdown",
   "metadata": {},
   "source": [
    "# Bagian 4 : List Operations"
   ]
  },
  {
   "cell_type": "markdown",
   "metadata": {},
   "source": [
    "Bagi kita yang sudah terbiasa dengan bahasa C/C++ dan JAVA tentu sudah tidak asing lagi dengan larik(<i>array</i>). larik(<i>array</i>) adalah sekumpulan data dengan tipe yang sama dan tersimpan dalam suatu variabel. Bahasa Python sendiri tentu juga memiliki sesuatu seperti larik(<i>array</i>), yaitu <i>List</i>. Yang membuat larik(<i>array</i>) dan <i>List</i> berbeda adalah isinya, larik(<i>array</i>) berisi data dengan satu tipe data saja sedangkan <i>List</i> isinya dapat berupa data dengan berbagai macam tipe data (seperti <i>integer, char, string</i> dsb.). Berikut ini contoh sederhananya:"
   ]
  },
  {
   "cell_type": "code",
   "execution_count": 1,
   "metadata": {},
   "outputs": [
    {
     "name": "stdout",
     "output_type": "stream",
     "text": [
      "[1, 2, 3, 4, 5, 6, 7, 8, 9, 10]\n"
     ]
    }
   ],
   "source": [
    "#Contoh 4.1\n",
    "\n",
    "list=[1,2,3,4,5,6,7,8,9,10]\n",
    "print(list)"
   ]
  },
  {
   "cell_type": "markdown",
   "metadata": {},
   "source": [
    "Sederhana bukan?\n",
    "Sekarang ayo kita akses indeks elemen dari <i>List</i> di atas!"
   ]
  },
  {
   "cell_type": "code",
   "execution_count": 2,
   "metadata": {},
   "outputs": [
    {
     "name": "stdout",
     "output_type": "stream",
     "text": [
      "1\n",
      "10\n",
      "6\n"
     ]
    }
   ],
   "source": [
    "#Contoh 4.2\n",
    "#Indeks awal List sama dengan larik(array)-dimulai dari 0\n",
    "\n",
    "print(list[0]) #mencetak indeks pertama\n",
    "print(list[9]) #mencetak indeks ke sepuluh\n",
    "print(list[5]) #mencetak indeks ke enam"
   ]
  },
  {
   "cell_type": "markdown",
   "metadata": {},
   "source": [
    "Berikut ini adalah cara yang dapat kita lakukan jika kita ingin menampilkan tiga elemen pertama, empat elemen terkahir atau dua elemen pertengahan."
   ]
  },
  {
   "cell_type": "code",
   "execution_count": 3,
   "metadata": {},
   "outputs": [
    {
     "name": "stdout",
     "output_type": "stream",
     "text": [
      "[1, 2, 3]\n",
      "[7, 8, 9, 10]\n",
      "[5, 6]\n"
     ]
    }
   ],
   "source": [
    "#Contoh 4.3\n",
    "\n",
    "print(list[:3])             #menampilkan tiga elemen pertama\n",
    "print(list[len(list)-4:])   #empat elemen terkahir\n",
    "print(list[4:6])            #dua elemen pertengahan"
   ]
  },
  {
   "cell_type": "markdown",
   "metadata": {},
   "source": [
    "Sebenarnya baris ke dua dapat ditulis seperti ini <b> print(list[10-4:]) </b> Saya menggunakan fungsi <b>len()</b> agar dapat digunakan pada <i>List</i> yang tidak kita ketahui panjangnya. Fungsi <b>len()</b> merupakan fungsi <i>built-in</i> yang disediakan oleh Python untuk menghitung panjang suatu <i>List</i>. Untuk mengakses elemen <i>List</i> dapat pula menggunakan elemen negatif."
   ]
  },
  {
   "cell_type": "code",
   "execution_count": 4,
   "metadata": {
    "scrolled": true
   },
   "outputs": [
    {
     "name": "stdout",
     "output_type": "stream",
     "text": [
      "2\n",
      "[1, 2, 3]\n",
      "[4, 5, 6, 7, 8, 9, 10]\n"
     ]
    }
   ],
   "source": [
    "#Contoh 4.4\n",
    "\n",
    "list=[1,2,3,4,5,6,7,8,9,10]\n",
    "print(list[-9])    #menampilkan elemen kedua\n",
    "print(list[:-7])   #menampilkan 3 elemen pertama\n",
    "print(list[-7:])   #menampilkan elemen sesudah indeks ke -7"
   ]
  },
  {
   "cell_type": "markdown",
   "metadata": {},
   "source": [
    "### Memodifikasi <i>List</i>"
   ]
  },
  {
   "cell_type": "markdown",
   "metadata": {},
   "source": [
    "Isi <i>List</i> dapat kita modifikasi(ubah) sesuai dengan kebutuhkan kita, contohnya seperti mengubah isinya, menyisipkan elemen baru, menghapus elemen, mengurutkan elemen dsb."
   ]
  },
  {
   "cell_type": "code",
   "execution_count": 5,
   "metadata": {},
   "outputs": [
    {
     "name": "stdout",
     "output_type": "stream",
     "text": [
      "['satu', 2, 3.67, 'D', 5, 'surabayapy']\n",
      "[666, 'Rakhman', 3.67, 'D', 5, 'surabayapy']\n"
     ]
    }
   ],
   "source": [
    "#Contoh 4.5\n",
    "\n",
    "list=[\"satu\", 2, 3.67, 'D', 5, \"surabayapy\" ]   #Buat list baru\n",
    "print(list)\n",
    "\n",
    "list[0]=666                                     #Mengubah elemen pertama\n",
    "list[1]=\"Rakhman\"                               #Mengubah elemen kedua\n",
    "print(list)                                     #Mencetkan list baru"
   ]
  },
  {
   "cell_type": "code",
   "execution_count": 6,
   "metadata": {},
   "outputs": [
    {
     "name": "stdout",
     "output_type": "stream",
     "text": [
      "['UPN', 'komunitas', 'pecinta', 'ular', 'python', 'surabaya', 'Wahid']\n",
      "['github', 5.5, 6.9, 'Cython', 'UPN', 'komunitas', 'pecinta', 'ular', 'python', 'surabaya', 'Wahid']\n",
      "[['anaconda', 3.5], 'github', 5.5, 6.9, 'Cython']\n",
      "\n",
      "Panjang listBaru  11\n",
      "Panjang list1  5\n"
     ]
    }
   ],
   "source": [
    "#Contoh 4.6 - Menyisipkan elemen baru pada List\n",
    "\n",
    "listBaru=[\"komunitas\", \"pecinta\", \"ular\", \"python\", \"surabaya\"]\n",
    "\n",
    "listBaru[:0]=[\"UPN\"]                   #menyisipkan elemen baru pada indeks pertama\n",
    "listBaru[len(list):]=[\"Wahid\"]         #menyisipkan elemen baru pada indeks terakhir\n",
    "print(listBaru)\n",
    "\n",
    "list1=[\"github\", 5.5, 6.9, \"Cython\"]   #buat list baru lagi\n",
    "listBaru[:0]=list1                     #menyisipkan semua elemen yang berada di\"list1\" ke dalam \"listBaru\"\n",
    "print(listBaru)\n",
    "\n",
    "list2=[\"anaconda\", 3.5]                #buat list baru lagi\n",
    "list1[:0]=[list2]                      #menyisipkan \"list2\" ke dalam \"list1\"\n",
    "print(list1)\n",
    "\n",
    "print()\n",
    "print(\"Panjang listBaru \", len(listBaru))\n",
    "print(\"Panjang list1 \", len(list1))"
   ]
  },
  {
   "cell_type": "markdown",
   "metadata": {},
   "source": [
    "Mudah sekali bukan? Nah cara untuk menghapus elemen yang ada di<i>List</i> adalah dengan menugaskan elemen kosong kepada list yang akan dihapus."
   ]
  },
  {
   "cell_type": "code",
   "execution_count": 7,
   "metadata": {},
   "outputs": [
    {
     "name": "stdout",
     "output_type": "stream",
     "text": [
      "['jombang', 'mojokerto', 'gresik', 'sampang', 'tuban', 'malang']\n",
      "['jombang', 'tuban', 'malang']\n"
     ]
    }
   ],
   "source": [
    "#Contoh 4.7\n",
    "\n",
    "kabupaten=[\"jombang\", \"mojokerto\", \"gresik\", \"sampang\", \"tuban\", \"malang\"]\n",
    "print(kabupaten)\n",
    "kabupaten[1:4]=[]      #menghapus indeks ke satu sampai tiga\n",
    "print(kabupaten)"
   ]
  },
  {
   "cell_type": "markdown",
   "metadata": {},
   "source": [
    "### Memodifikasi <i>List</i> menggunakan fungsi"
   ]
  },
  {
   "cell_type": "markdown",
   "metadata": {},
   "source": [
    "Selain langkah-langkah di atas, <i>List</i> juga dapat diubah dengan fungsi <i>built-in</i> yang sudah disediakan oleh Python. Fungsi-fungsi ini diharapkan memberi kemudahan bagi para pemrogram. Untuk menyisipkan elemen baru ke dalam <i>List</i> kita akan menggunakan fungsi <b>append(), extend(),</b> dan <b>insert()</b>."
   ]
  },
  {
   "cell_type": "code",
   "execution_count": 8,
   "metadata": {},
   "outputs": [
    {
     "name": "stdout",
     "output_type": "stream",
     "text": [
      "[2, 4, 6, 8, 10, 'veteran']\n",
      "['bagaikan', 2, 4, 6, 8, 10, 'veteran']\n"
     ]
    }
   ],
   "source": [
    "#Contoh 4.8\n",
    "\n",
    "list=[2,4,6,8,10]\n",
    "list.append(\"veteran\")      #menyisipkan elemen baru ke dalam list\n",
    "print(list)\n",
    "\n",
    "list.insert(0,\"bagaikan\")   #menyisipkan elemen baru pada indeks ke 0\n",
    "print(list)"
   ]
  },
  {
   "cell_type": "markdown",
   "metadata": {},
   "source": [
    "Kedua fungsi tersebut memiliki perbedaan, dimana fungsi <b>append()</b> hanya digunakan untuk menyisipkan elemen baru di akhir <i>List</i> sedangkan fungsi <b>insert()</b> digunakan untuk menyisipkan elemen ke dalam <i>List</i> berdasarkan indeks yang telah kita tentukan. Fungsi <b>extend()</b> hanya digunakan untuk menyisipkan suatu elemen <i>List</i> ke dalam <i>List</i> lainnya."
   ]
  },
  {
   "cell_type": "code",
   "execution_count": 9,
   "metadata": {},
   "outputs": [
    {
     "name": "stdout",
     "output_type": "stream",
     "text": [
      "[1, 3, 5, 7, 9, -2, -4, -6, -8, -10]\n"
     ]
    }
   ],
   "source": [
    "#Contoh 4.9\n",
    "\n",
    "bulatPositif=[1,3,5,7,9]\n",
    "bulatNegatif=[-2,-4,-6,-8,-10]\n",
    "bulatPositif.extend(bulatNegatif)   #menyisipkan elemen bulatNegatif ke  bulatPositif\n",
    "print(bulatPositif)"
   ]
  },
  {
   "cell_type": "markdown",
   "metadata": {},
   "source": [
    "Elemen suatu <i>List</i> dapat dihapus dengan menggunakan tiga fungsi, yakni <b>del, remove(),</b> dan <b>pop</b>."
   ]
  },
  {
   "cell_type": "code",
   "execution_count": 10,
   "metadata": {},
   "outputs": [
    {
     "name": "stdout",
     "output_type": "stream",
     "text": [
      "['Decision Tree', 'Neural Network', 'Bayisean', 'Support Vector Machine', 'Random Forrest', 'Gradient Boosting']\n",
      "['Bayisean', 'Support Vector Machine', 'Random Forrest', 'Gradient Boosting']\n",
      "['Bayisean', 'Support Vector Machine', 'Gradient Boosting']\n",
      "['Support Vector Machine', 'Gradient Boosting']\n"
     ]
    }
   ],
   "source": [
    "#Contoh 4.10\n",
    "\n",
    "klasifikasi=[\"Decision Tree\", \"Neural Network\", \"Bayisean\", \"Support Vector Machine\", \"Random Forrest\", \"Gradient Boosting\"]\n",
    "print(klasifikasi)\n",
    "\n",
    "del klasifikasi[0:2]                   #menggunakan del\n",
    "print(klasifikasi)\n",
    "\n",
    "klasifikasi.remove(\"Random Forrest\")   #menggunakan remove()\n",
    "print(klasifikasi)\n",
    "\n",
    "klasifikasi.pop(0)                     #menggunakan pop\n",
    "print(klasifikasi)"
   ]
  },
  {
   "cell_type": "markdown",
   "metadata": {},
   "source": [
    "### Mengurutkan dan membalik <i>List</i>."
   ]
  },
  {
   "cell_type": "markdown",
   "metadata": {},
   "source": [
    "Fungsi <b>sort()</b> dan <b>sorted()</b> digunakan untuk mengurutkan elemen-elemen yang ada di dalam <i>List</i>. Untuk membalik urutan elemen yang ada di dalam list cukup dengan menggunakan fungsi <b>reverse()</b>. Tipe data elemen pada <i>List</i> yang hendak diurutkan atau di balik harus satu dan sama jika tidak maka program tidak bisa dijalankan. Berikut ini contohnya :"
   ]
  },
  {
   "cell_type": "code",
   "execution_count": 11,
   "metadata": {},
   "outputs": [
    {
     "name": "stdout",
     "output_type": "stream",
     "text": [
      "['e', 'i', 'o', 'p', 'q', 'r', 't', 'u', 'w', 'y']\n",
      "['bali', 'jawa', 'kalimantan', 'madura', 'maluku', 'nusa tenggara', 'papua', 'sulawesi', 'sumatera']\n",
      "[20, 19, 18, 17, 16, 15, 14, 13, 12, 11]\n"
     ]
    }
   ],
   "source": [
    "#Contoh 4.11\n",
    "\n",
    "abjad=['q','w','e','r','t','y','u','i','o','p']\n",
    "abjad.sort()\n",
    "print (abjad)\n",
    "\n",
    "pulau=[\"sumatera\", \"jawa\", \"kalimantan\", \"bali\", \"madura\", \"sulawesi\", \"nusa tenggara\", \"maluku\", \"papua\"]\n",
    "print(sorted(pulau))\n",
    "\n",
    "bulat=[11, 12, 13, 14, 15, 16, 17, 18, 19, 20]\n",
    "bulat.reverse()\n",
    "print(bulat)"
   ]
  },
  {
   "cell_type": "markdown",
   "metadata": {},
   "source": [
    "### Penggunaan Operator pada <i>List</i>"
   ]
  },
  {
   "cell_type": "markdown",
   "metadata": {},
   "source": [
    "Operator yang digunakan dalam operasi <i>List</i> yaitu operasi perkalian(*) dan penjumlahan(+). Penggunaan operator perkalian berfungsi untuk melipat gandakan elemen dari suatu <i>list</i> sesuai dengan jumlah pengalinya."
   ]
  },
  {
   "cell_type": "code",
   "execution_count": 12,
   "metadata": {},
   "outputs": [
    {
     "name": "stdout",
     "output_type": "stream",
     "text": [
      "['surabayapy', 'surabayapy', 'surabayapy', 'surabayapy', 'surabayapy']\n",
      "['Rakhman', 'wahid', 1, 2, 3.4]\n",
      "['Rakhman', 'wahid', 1, 2, 3.4, 'rakhid']\n"
     ]
    }
   ],
   "source": [
    "#Contoh 4.12\n",
    "\n",
    "siegHeill=[\"surabayapy\"]*5              #Operasi menggunakan operator perkalian\n",
    "print(siegHeill)\n",
    "\n",
    "nama=[\"Rakhman\"] + [\"wahid\", 1,2,3.4]   #Operasi menggunakan operator penjumlahan\n",
    "print(nama)\n",
    "nama1=[\"rakhid\"]\n",
    "nama+=nama1\n",
    "print(nama)"
   ]
  },
  {
   "cell_type": "markdown",
   "metadata": {},
   "source": [
    "Untuk mengetahui apakah suatu data termasuk dalam elemen <i>List</i> atau tidak, apat menggunakan operator <b>in</b>. Operator ini memberikan nilai balik berupa <i>TRUE</i> dan <i>FALSE</i> yang menyatakan benar atau tidaknya data tersebut adalah elemen dari suatu <i>List</i>."
   ]
  },
  {
   "cell_type": "code",
   "execution_count": 13,
   "metadata": {},
   "outputs": [
    {
     "name": "stdout",
     "output_type": "stream",
     "text": [
      "['Rakhman', 'wahid', 1, 2, 3.4, 'rakhid']\n"
     ]
    },
    {
     "data": {
      "text/plain": [
       "True"
      ]
     },
     "execution_count": 13,
     "metadata": {},
     "output_type": "execute_result"
    }
   ],
   "source": [
    "#Contoh 4.13\n",
    "\n",
    "print(nama)\n",
    "2 in nama"
   ]
  },
  {
   "cell_type": "code",
   "execution_count": 14,
   "metadata": {},
   "outputs": [
    {
     "name": "stdout",
     "output_type": "stream",
     "text": [
      "['Rakhman', 'wahid', 1, 2, 3.4, 'rakhid']\n"
     ]
    },
    {
     "data": {
      "text/plain": [
       "False"
      ]
     },
     "execution_count": 14,
     "metadata": {},
     "output_type": "execute_result"
    }
   ],
   "source": [
    "#Contoh 4.14\n",
    "\n",
    "print(nama)\n",
    "3 in nama"
   ]
  },
  {
   "cell_type": "markdown",
   "metadata": {},
   "source": [
    "### <i>List</i> bersarang"
   ]
  },
  {
   "cell_type": "markdown",
   "metadata": {},
   "source": [
    "<i>List</i> bersarang bisa dikatakan sebagai <i>List</i> dua dimensi karena terdiri dari kolom dan baris. Contoh di bawah ini menunjukan bagaimana membuat <i>list</i> dua dimensi 2X3."
   ]
  },
  {
   "cell_type": "code",
   "execution_count": 15,
   "metadata": {},
   "outputs": [
    {
     "name": "stdout",
     "output_type": "stream",
     "text": [
      "[['Informatika', 'Sains Data', 'Intelejensi Bisnis'], [1, 2, 3]]\n"
     ]
    }
   ],
   "source": [
    "#Contoh 4.15\n",
    "\n",
    "badass=[[\"Informatika\", \"Sains Data\", \"Intelejensi Bisnis\"], [1,2,3]]\n",
    "print(badass)"
   ]
  },
  {
   "cell_type": "markdown",
   "metadata": {},
   "source": [
    "Jika <i>list</i> di atas divisualisasikan, maka hasilnya seperti <a href=\"https://lh3.googleusercontent.com/M6Z9HsqMaOVYa-Ygqxuwv_-t5m0kJBjWsxxuxvQxKsBpM5VlrCGx6zn8eAzkTquHCFfutkc6Ha9iomkOMViNzrRZE0Ko0s2qzQhzer-EXJ2m8YtAtnu3zH7IWSSf3sjeuTz20QOk0eNK4Ie47iuAZSsBsrpBo6pE5FbEQKOhvHaWbUgf5MRV1stJbKTLLUDLpuVq7dkjNLzLqN5pdtsIdKRLN2azhlduB1xmS80TJRZEEjuTV3VzSRBG_h9SwDJ3XPwIeyRJ4Td7I_JFBQydKXaAZ3W_7qDWOm5xmvwete7FoVof0li7M-ujAIsleG_3kuJCJJJfZKLBa8CARUgE57ss9DEhTIwvtjcAZ7NfvtTfRzmNBn_pyYtzzo9lNPSS0pCwGfXJTxiWFzdZU4f6_EhQrB2ZU3i0yvGZ3B9Y8RMrA3uCUAjDRK2tMhvpgvfxueF5FnXtcufzgxQ031y_aAZGd1sOF_l9HSZ0Z9-UNNh0rkayAhtC1uJsBjv8QO2OhxOZSOkv_WBydbRWl1DOlc0kdj089RabETBpuWLOZrqBHl1wEP9uUBJE_BisiBhBD7VALJkXtK70IOPgriVzCJ80xXUF9TKPiVNRu3g=w1090-h137-no\">ini</a>. Menarik bukan? Layaknya larik(<i>array</i>) dua dimensi pada bahasa C/C++ dan JAVA, maka untuk mengakses elemen dari <i>list</i> dua dimensi dilakukan dengan cara mengakses kolom dan barisnya. Formatnya :  <b>nama_list[indeks_baris][indeks_kolom]</b>."
   ]
  },
  {
   "cell_type": "code",
   "execution_count": 16,
   "metadata": {},
   "outputs": [
    {
     "name": "stdout",
     "output_type": "stream",
     "text": [
      "[['Informatika', 'Sains Data', 'Intelejensi Bisnis'], [1, 2, 3]]\n",
      "['Informatika', 'Sains Data', 'Intelejensi Bisnis']\n",
      "[1, 2, 3]\n"
     ]
    }
   ],
   "source": [
    "#Contoh 4.16\n",
    "\n",
    "badass=[[\"Informatika\", \"Sains Data\", \"Intelejensi Bisnis\"], [1,2,3]]\n",
    "print(badass)\n",
    "print(badass[0][0:])   #Menampilkan elemen pada baris pertama\n",
    "print(badass[1][0:])   #Menampilkan elemen pada baris kedua"
   ]
  },
  {
   "cell_type": "markdown",
   "metadata": {},
   "source": [
    "Pada larik(<i>array</i>) dua dimensi C/C++ dan JAVA, dimana ketika dibuat larik(<i>array</i>) 3X3 maka tiap baris harus berisi tiga elemen dan tidak boleh kurang ataupun lebih. <i>List</i> memiliki keistimewaan di mana pemrogram bebas mendefinisikan berapa elemen dari tiap baris. Berikut contohnya"
   ]
  },
  {
   "cell_type": "code",
   "execution_count": 17,
   "metadata": {},
   "outputs": [
    {
     "name": "stdout",
     "output_type": "stream",
     "text": [
      "[['warna', 'prioritas', 'jumlah'], ['biru', 1], ['kuning']]\n"
     ]
    }
   ],
   "source": [
    "#Contoh 4.17\n",
    "\n",
    "lurk=[[\"warna\", \"prioritas\", \"jumlah\"], [\"biru\", 1], [\"kuning\"]]\n",
    "print(lurk)"
   ]
  },
  {
   "cell_type": "markdown",
   "metadata": {},
   "source": [
    "Tidak sulit untuk memvisualikasikannya kan? :) Di sana terlihat bahwa pada baris pertama terdapat tiga elemen<b> [\"warna\", \"prioritas\", \"jumlah\"]</b>, baris kedua terdapat dua elemen <b>[\"biru\", 1]</b> dan baris ke tiga memiliki satu elemen <b>[\"kuning\"]</b>. Terdapat satu permasalahan yang harus diperhatikan ketika membuat list dua dimensi. Ketika si pemrogram mereferensikan suatu objek <i>list</i> ke dalam <i>list</i> lainnya, maka hal itu berarti si pemrogram bekerja dengan data asli dari <i>list</i> tersebut. Sehingga apabila terjadi peruahan pada <i>list</i> tereferensi maka list juaga akan mengalami perubahan dan begitu pula sebaliknya. Berikut ini contohnya :"
   ]
  },
  {
   "cell_type": "code",
   "execution_count": 18,
   "metadata": {},
   "outputs": [
    {
     "name": "stdout",
     "output_type": "stream",
     "text": [
      "[['Python'], 'C++', 'JAVA']\n",
      "['Python']\n",
      "['PHP']\n",
      "[['PHP'], 'C++', 'JAVA']\n",
      "[['JavaScript'], 'C++', 'JAVA']\n",
      "['JavaScript']\n"
     ]
    }
   ],
   "source": [
    "#Contoh 4.17\n",
    "\n",
    "bahasa=[\"Python\"]\n",
    "data=[bahasa, \"C++\", \"JAVA\"]\n",
    "print (data)\n",
    "print (bahasa)\n",
    "\n",
    "bahasa[0]=\"PHP\"           #mengubah elemen pertama bahasa\n",
    "print (bahasa)\n",
    "print (data)\n",
    "\n",
    "data[0][0]=\"JavaScript\"   #Mengubah elemen baris pada kolom pertama\n",
    "print (data)\n",
    "print (bahasa)"
   ]
  },
  {
   "cell_type": "markdown",
   "metadata": {},
   "source": [
    "Gimana, paham kan maksudnya? Jadi kode di atas membuktikan bahwa ketika si pemrogram membuat <i>list</i> dua dimensi dengan cara mereferensikan suatu <i>list</i> lainnya, maka itu berarti si pemrogram bekerja dengan data asli dari <i>list</i> referensi tersebut."
   ]
  },
  {
   "cell_type": "markdown",
   "metadata": {},
   "source": [
    "### Tambahan"
   ]
  },
  {
   "cell_type": "markdown",
   "metadata": {},
   "source": [
    "Tadi belum sempat menyinggung fungsi <b>index(), max()</b>, dan <b>min()</b>. Heheheh jadi fungsi <b>index()</b> itu gunanya untuk mengetahui posisi elemen suatu <i>list</i>. Fungsi <b>max()</b> untuk mengetahui nilai maksimal dari elemen yang ada di dalam <i>list</i> sedangkan fungsi <b>min()</b> itu gunanya untuk mengetahui nilai minimal dari elemen yang ada di dalam <i>list</i>."
   ]
  },
  {
   "cell_type": "code",
   "execution_count": 19,
   "metadata": {},
   "outputs": [
    {
     "name": "stdout",
     "output_type": "stream",
     "text": [
      "6\n",
      "10\n",
      "1\n"
     ]
    }
   ],
   "source": [
    "#Contoh 4.18\n",
    "\n",
    "list=[1,2,3,4,5,6,7,8,9,10]\n",
    "\n",
    "print(list.index(7))\n",
    "print(max(list))\n",
    "print(min(list))"
   ]
  },
  {
   "cell_type": "markdown",
   "metadata": {},
   "source": [
    "## Latihan Soal"
   ]
  },
  {
   "cell_type": "markdown",
   "metadata": {},
   "source": [
    "1. Jelaskan pemahaman anda tentang <i>List</i>\n",
    "2. Buatlah contoh pendeklarasian yang menandakan suatu variabel sebagai <i>List</i>\n",
    "3. Buatlah suatu program dengan menggunakan <i>List</i> untuk menyimpan data nama mahasiswa angkatan anda. Lakukan dengan perulangan!(<i>for</i> atau <i>while</i>)\n",
    "4. Berapa banyak jumlah bilangan prima kurang dari dua ratus? Gunakan <i>List</i> untuk menyelsaikan permasalahan ini\n",
    "5. Buatlah jadwal kuliah(lima hari) dengan menggunakan <i>List</i> dua dimensi kemudian visualisasikan!"
   ]
  }
 ],
 "metadata": {
  "kernelspec": {
   "display_name": "Python 3",
   "language": "python",
   "name": "python3"
  },
  "language_info": {
   "codemirror_mode": {
    "name": "ipython",
    "version": 3
   },
   "file_extension": ".py",
   "mimetype": "text/x-python",
   "name": "python",
   "nbconvert_exporter": "python",
   "pygments_lexer": "ipython3",
   "version": "3.6.4"
  }
 },
 "nbformat": 4,
 "nbformat_minor": 2
}
